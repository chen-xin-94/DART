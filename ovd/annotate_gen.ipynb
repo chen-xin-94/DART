{
 "cells": [
  {
   "cell_type": "code",
   "execution_count": 13,
   "metadata": {},
   "outputs": [],
   "source": [
    "from pathlib import Path\n",
    "import json\n",
    "import socket\n",
    "from utils import load_image, annotate\n",
    "\n",
    "if socket.gethostname() == \"hctlrds\":\n",
    "    dataset_dir = Path(\"/mnt/ssd2/xin/data/Liebherr_Product\")\n",
    "    repo_dir = Path(\"/mnt/ssd2/xin/repo/alp/diversification/dreambooth\")\n",
    "elif socket.gethostname() == \"BALI\":\n",
    "    dataset_dir = Path(\"/home/xin/Datasets/Liebherr_Product\")\n",
    "    repo_dir = Path(\"/home/xin/repo/alp/diversification/dreambooth\")\n",
    "else:\n",
    "    raise ValueError(\"Unknown hostname\")\n",
    "\n",
    "label_dir = dataset_dir / \"labels_gen\"\n",
    "image_dir = repo_dir / \"generated_data\"\n",
    "image_annotated_dir = repo_dir / \"generated_data_annotated\"\n",
    "\n",
    "with open(label_dir / \"labels_nms.json\") as f:\n",
    "    labels_nms = json.load(f)"
   ]
  },
  {
   "cell_type": "code",
   "execution_count": 15,
   "metadata": {},
   "outputs": [],
   "source": [
    "### plot iamges based on labels\n",
    "\n",
    "for id, ann in labels_nms.items():\n",
    "    file = id + \".jpg\"\n",
    "    classes = labels_nms[id][\"classes\"]\n",
    "    if len(classes) == 0:\n",
    "        continue\n",
    "    obj = classes[0]\n",
    "    img_path = image_dir / obj / file\n",
    "    annotated_img_path = image_annotated_dir / obj / file\n",
    "    # resume\n",
    "    if annotated_img_path.exists():\n",
    "        continue\n",
    "    if not img_path.exists():\n",
    "        print(f\"{img_path} does not exist\")\n",
    "        continue\n",
    "    boxes_xywh = labels_nms[id][\"boxes\"]\n",
    "    if len(boxes_xywh) == 0:\n",
    "        continue\n",
    "\n",
    "    logits = labels_nms[id][\"logits\"]\n",
    "    classes = labels_nms[id][\"classes\"]\n",
    "    img = load_image(img_path, size=512)\n",
    "    annotated_frame = annotate(img, boxes_xywh, logits, classes)\n",
    "    annotated_img_path.parent.mkdir(exist_ok=True, parents=True)\n",
    "    annotated_frame.save(annotated_img_path)"
   ]
  }
 ],
 "metadata": {
  "kernelspec": {
   "display_name": "alp",
   "language": "python",
   "name": "python3"
  },
  "language_info": {
   "codemirror_mode": {
    "name": "ipython",
    "version": 3
   },
   "file_extension": ".py",
   "mimetype": "text/x-python",
   "name": "python",
   "nbconvert_exporter": "python",
   "pygments_lexer": "ipython3",
   "version": "3.1.-1"
  }
 },
 "nbformat": 4,
 "nbformat_minor": 2
}
