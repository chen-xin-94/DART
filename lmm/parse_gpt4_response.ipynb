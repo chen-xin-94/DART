{
 "cells": [
  {
   "cell_type": "code",
   "execution_count": 1,
   "metadata": {},
   "outputs": [],
   "source": [
    "from pathlib import Path\n",
    "import json"
   ]
  },
  {
   "cell_type": "code",
   "execution_count": 2,
   "metadata": {},
   "outputs": [],
   "source": [
    "# setup paths\n",
    "dataset_dir = Path(\"/mnt/ssd2/xin/repo/DART/Liebherr_Product\")\n",
    "\n",
    "# Define the images directory and duplicates directory using Path objects\n",
    "image_dir = dataset_dir / \"images\"\n",
    "meta_dir = dataset_dir / \"metadata\"\n",
    "label_dir = dataset_dir / \"labels\"\n",
    "response_dir = dataset_dir / \"reviews\"\n",
    "\n",
    "with open(meta_dir / \"to_gpt.json\", \"r\") as f:\n",
    "    to_gpt = json.load(f)\n",
    "\n",
    "with open(meta_dir / \"id_to_name.json\", \"r\") as f:\n",
    "    id_to_name = json.load(f)"
   ]
  },
  {
   "cell_type": "code",
   "execution_count": 3,
   "metadata": {},
   "outputs": [],
   "source": [
    "# get all files from response_dir\n",
    "response_files = list(response_dir.rglob(\"*.json\"))\n",
    "response_ids = sorted([f.stem for f in response_files])"
   ]
  },
  {
   "cell_type": "code",
   "execution_count": 4,
   "metadata": {},
   "outputs": [],
   "source": [
    "# assert if all files got a response\n",
    "assert response_ids == sorted(to_gpt)"
   ]
  },
  {
   "cell_type": "code",
   "execution_count": 5,
   "metadata": {},
   "outputs": [
    {
     "name": "stdout",
     "output_type": "stream",
     "text": [
      "Precision is 'Cannot be determined' in '/mnt/ssd2/xin/repo/DART/Liebherr_Product/reviews/mobile crane/06954.json'\n",
      "Recall is 'Cannot be determined' in '/mnt/ssd2/xin/repo/DART/Liebherr_Product/reviews/mobile crane/06954.json'\n",
      "Fit is 'Cannot be determined' in '/mnt/ssd2/xin/repo/DART/Liebherr_Product/reviews/mobile crane/06954.json'\n",
      "\n",
      "Could not find json delimiter in '/mnt/ssd2/xin/repo/DART/Liebherr_Product/reviews/mobile crane/08502.json'\n",
      "Could not find json delimiter in '/mnt/ssd2/xin/repo/DART/Liebherr_Product/reviews/mobile crane/07013.json'\n",
      "Could not find json delimiter in '/mnt/ssd2/xin/repo/DART/Liebherr_Product/reviews/mobile crane/06931.json'\n",
      "Could not find json delimiter in '/mnt/ssd2/xin/repo/DART/Liebherr_Product/reviews/crawler crane/01092.json'\n",
      "Could not find json delimiter in '/mnt/ssd2/xin/repo/DART/Liebherr_Product/reviews/crawler crane/00868.json'\n",
      "Could not find json delimiter in '/mnt/ssd2/xin/repo/DART/Liebherr_Product/reviews/crawler crane/01385.json'\n",
      "Could not find json delimiter in '/mnt/ssd2/xin/repo/DART/Liebherr_Product/reviews/crawler crane/00850.json'\n",
      "Could not find json delimiter in '/mnt/ssd2/xin/repo/DART/Liebherr_Product/reviews/crawler excavator/02658.json'\n",
      "\n",
      "Unique values for Precision, Recall, Fit:\n",
      "{'Cannot be determined', 'No', 'Yes'}\n",
      "{'Cannot be determined', 'No', 'Yes'}\n",
      "{'Cannot be determined', 'No', 'Yes'}\n"
     ]
    }
   ],
   "source": [
    "# check the values of the dict of the content\n",
    "\n",
    "precisions = set()\n",
    "recalls = set()\n",
    "fits = set()\n",
    "no_json = []\n",
    "\n",
    "for file in response_files:\n",
    "    with open(file, \"r\") as f:\n",
    "        response = json.load(f)\n",
    "    # content of response should have format like this\n",
    "    # '```json\\n{\"Precision\":\"No\", \"Recall\":\"No\", \"Fit\":\"No\"}\\n```'\n",
    "    content = response[\"choices\"][0][\"message\"][\"content\"]\n",
    "    start_delimiter = \"```json\\n\"\n",
    "    end_delimiter = \"\\n```\"\n",
    "    start_pos = content.find(start_delimiter)\n",
    "    if start_pos == -1:\n",
    "        no_json.append(file)\n",
    "        continue\n",
    "    end_pos = content.find(end_delimiter, start_pos + len(start_delimiter))\n",
    "    content = content[start_pos + len(start_delimiter) : end_pos]\n",
    "    content = json.loads(content)\n",
    "    if content[\"Precision\"] not in [\"Yes\", \"No\"]:\n",
    "        print(f\"Precision is '{content['Precision']}' in '{file}'\")\n",
    "    if content[\"Recall\"] not in [\"Yes\", \"No\"]:\n",
    "        print(f\"Recall is '{content['Recall']}' in '{file}'\")\n",
    "    if content[\"Fit\"] not in [\"Yes\", \"No\"]:\n",
    "        print(f\"Fit is '{content['Fit']}' in '{file}'\")\n",
    "    precisions.add(content[\"Precision\"])\n",
    "    recalls.add(content[\"Recall\"])\n",
    "    fits.add(content[\"Fit\"])\n",
    "\n",
    "print()\n",
    "if len(no_json) == 0:\n",
    "    print(\"All files have json delimiter\")\n",
    "else:\n",
    "    for file in no_json:\n",
    "        print(f\"Could not find json delimiter in '{file}'\")\n",
    "\n",
    "print()\n",
    "print(\"Unique values for Precision, Recall, Fit:\")\n",
    "print(precisions)\n",
    "print(recalls)\n",
    "print(fits)"
   ]
  },
  {
   "cell_type": "code",
   "execution_count": 6,
   "metadata": {},
   "outputs": [
    {
     "name": "stdout",
     "output_type": "stream",
     "text": [
      "Could not find json delimiter in '/mnt/ssd2/xin/repo/DART/Liebherr_Product/reviews/mobile crane/08502.json', added to all no lists\n",
      "Precision is 'Cannot be determined' in '/mnt/ssd2/xin/repo/DART/Liebherr_Product/reviews/mobile crane/06954.json',added to all no lists\n",
      "Could not find json delimiter in '/mnt/ssd2/xin/repo/DART/Liebherr_Product/reviews/mobile crane/07013.json', added to all no lists\n",
      "Could not find json delimiter in '/mnt/ssd2/xin/repo/DART/Liebherr_Product/reviews/mobile crane/06931.json', added to all no lists\n",
      "Could not find json delimiter in '/mnt/ssd2/xin/repo/DART/Liebherr_Product/reviews/crawler crane/01092.json', added to all no lists\n",
      "Could not find json delimiter in '/mnt/ssd2/xin/repo/DART/Liebherr_Product/reviews/crawler crane/00868.json', added to all no lists\n",
      "Could not find json delimiter in '/mnt/ssd2/xin/repo/DART/Liebherr_Product/reviews/crawler crane/01385.json', added to all no lists\n",
      "Could not find json delimiter in '/mnt/ssd2/xin/repo/DART/Liebherr_Product/reviews/crawler crane/00850.json', added to all no lists\n",
      "Could not find json delimiter in '/mnt/ssd2/xin/repo/DART/Liebherr_Product/reviews/crawler excavator/02658.json', added to all no lists\n",
      "no_gpt: 2002\n",
      "no_gpt_precision: 1860\n",
      "no_gpt_recall: 949\n",
      "no_gpt_fit: 1743\n",
      "no_gpt_loose: 757\n"
     ]
    }
   ],
   "source": [
    "no_gpt = []\n",
    "no_gpt_loose = []\n",
    "no_gpt_precision = []\n",
    "no_gpt_recall = []\n",
    "no_gpt_fit = []\n",
    "for file in response_files:\n",
    "    with open(file, \"r\") as f:\n",
    "        response = json.load(f)\n",
    "    # content of response should have format like this\n",
    "    # '```json\\n{\"Precision\":\"No\", \"Recall\":\"No\", \"Fit\":\"No\"}\\n```'\n",
    "    content = response[\"choices\"][0][\"message\"][\"content\"]\n",
    "    start_delimiter = \"```json\\n\"\n",
    "    end_delimiter = \"\\n```\"\n",
    "    start_pos = content.find(start_delimiter)\n",
    "    if start_pos == -1:\n",
    "        print(f\"Could not find json delimiter in '{file}', added to all no lists\")\n",
    "        no_gpt.append(file.stem)\n",
    "        no_gpt_precision.append(file.stem)\n",
    "        no_gpt_recall.append(file.stem)\n",
    "        no_gpt_fit.append(file.stem)\n",
    "        continue\n",
    "    end_pos = content.find(end_delimiter, start_pos + len(start_delimiter))\n",
    "    content = content[start_pos + len(start_delimiter) : end_pos]\n",
    "    content = json.loads(content)\n",
    "\n",
    "    # check if the values are valid\n",
    "    if content[\"Precision\"] not in [\"Yes\", \"No\"]:\n",
    "        print(\n",
    "            f\"Precision is '{content['Precision']}' in '{file}',added to all no lists\"\n",
    "        )\n",
    "        no_gpt.append(file.stem)\n",
    "        no_gpt_precision.append(file.stem)\n",
    "        no_gpt_recall.append(file.stem)\n",
    "        no_gpt_fit.append(file.stem)\n",
    "        continue\n",
    "    if content[\"Recall\"] not in [\"Yes\", \"No\"]:\n",
    "        print(f\"Recall is '{content['Recall']}' in '{file}',added to all no lists\")\n",
    "        no_gpt.append(file.stem)\n",
    "        no_gpt_precision.append(file.stem)\n",
    "        no_gpt_recall.append(file.stem)\n",
    "        no_gpt_fit.append(file.stem)\n",
    "        continue\n",
    "    if content[\"Fit\"] not in [\"Yes\", \"No\"]:\n",
    "        print(f\"Fit is '{content['Fit']}' in '{file}',added to all no lists\")\n",
    "        no_gpt.append(file.stem)\n",
    "        no_gpt_precision.append(file.stem)\n",
    "        no_gpt_recall.append(file.stem)\n",
    "        no_gpt_fit.append(file.stem)\n",
    "        continue\n",
    "\n",
    "    # check if the values are 'No'\n",
    "    if (\n",
    "        content[\"Precision\"] == \"No\"\n",
    "        or content[\"Recall\"] == \"No\"\n",
    "        or content[\"Fit\"] == \"No\"\n",
    "    ):\n",
    "        no_gpt.append(file.stem)\n",
    "        if content[\"Precision\"] == \"No\":\n",
    "            no_gpt_precision.append(file.stem)\n",
    "        if content[\"Recall\"] == \"No\":\n",
    "            no_gpt_recall.append(file.stem)\n",
    "        if content[\"Fit\"] == \"No\":\n",
    "            no_gpt_fit.append(file.stem)\n",
    "\n",
    "    # only 3 no means no\n",
    "    if (\n",
    "        content[\"Precision\"] == \"No\"\n",
    "        and content[\"Recall\"] == \"No\"\n",
    "        and content[\"Fit\"] == \"No\"\n",
    "    ):\n",
    "        no_gpt_loose.append(file.stem)\n",
    "\n",
    "print(f\"no_gpt: {len(no_gpt)}\")\n",
    "print(f\"no_gpt_precision: {len(no_gpt_precision)}\")\n",
    "print(f\"no_gpt_recall: {len(no_gpt_recall)}\")\n",
    "print(f\"no_gpt_fit: {len(no_gpt_fit)}\")\n",
    "print(f\"no_gpt_loose: {len(no_gpt_loose)}\")"
   ]
  },
  {
   "cell_type": "code",
   "execution_count": 7,
   "metadata": {},
   "outputs": [
    {
     "name": "stdout",
     "output_type": "stream",
     "text": [
      "no_gpt: 1997\n",
      "no_gpt_precision: 1858\n",
      "no_gpt_recall: 944\n",
      "no_gpt_fit: 1741\n",
      "no_gpt_loose: 757\n"
     ]
    }
   ],
   "source": [
    "# exclude specific files\n",
    "exclude = [\n",
    "    \"03503\",\n",
    "    \"09860\",\n",
    "    \"09861\",\n",
    "    \"09862\",\n",
    "    \"09863\",\n",
    "    \"09864\",\n",
    "    \"09865\",\n",
    "    \"09866\",\n",
    "    \"09867\",\n",
    "]\n",
    "no_gpt = [x for x in no_gpt if x not in exclude]\n",
    "no_gpt_precision = [x for x in no_gpt_precision if x not in exclude]\n",
    "no_gpt_recall = [x for x in no_gpt_recall if x not in exclude]\n",
    "no_gpt_fit = [x for x in no_gpt_fit if x not in exclude]\n",
    "\n",
    "print(f\"no_gpt: {len(no_gpt)}\")\n",
    "print(f\"no_gpt_precision: {len(no_gpt_precision)}\")\n",
    "print(f\"no_gpt_recall: {len(no_gpt_recall)}\")\n",
    "print(f\"no_gpt_fit: {len(no_gpt_fit)}\")\n",
    "print(f\"no_gpt_loose: {len(no_gpt_loose)}\")"
   ]
  },
  {
   "cell_type": "code",
   "execution_count": 8,
   "metadata": {},
   "outputs": [],
   "source": [
    "# save\n",
    "with open(label_dir / \"no_gpt.json\", \"w\") as f:\n",
    "    json.dump(no_gpt, f)\n",
    "# with open(label_dir / 'no_gpt_precision.json', 'w') as f:\n",
    "#     json.dump(no_gpt_precision, f)\n",
    "# with open(label_dir / 'no_gpt_recall.json', 'w') as f:\n",
    "#     json.dump(no_gpt_recall, f)\n",
    "# with open(label_dir / 'no_gpt_fit.json', 'w') as f:\n",
    "#     json.dump(no_gpt_fit, f)\n",
    "# with open(label_dir / 'no_gpt_loose.json', 'w') as f:\n",
    "#     json.dump(no_gpt_loose, f)"
   ]
  },
  {
   "cell_type": "code",
   "execution_count": null,
   "metadata": {},
   "outputs": [],
   "source": []
  }
 ],
 "metadata": {
  "kernelspec": {
   "display_name": "alp",
   "language": "python",
   "name": "python3"
  },
  "language_info": {
   "codemirror_mode": {
    "name": "ipython",
    "version": 3
   },
   "file_extension": ".py",
   "mimetype": "text/x-python",
   "name": "python",
   "nbconvert_exporter": "python",
   "pygments_lexer": "ipython3",
   "version": "3.10.14"
  }
 },
 "nbformat": 4,
 "nbformat_minor": 2
}
