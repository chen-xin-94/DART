{
 "cells": [
  {
   "cell_type": "code",
   "execution_count": null,
   "metadata": {},
   "outputs": [],
   "source": [
    "from pathlib import Path\n",
    "import json"
   ]
  },
  {
   "cell_type": "code",
   "execution_count": null,
   "metadata": {},
   "outputs": [],
   "source": [
    "dataset_dir = Path(\"/mnt/ssd2/xin/repo/DART/Liebherr_Product\")\n",
    "repo_dir = Path(\"/mnt/ssd2/xin/repo/DART/diversification/dreambooth\")\n",
    "\n",
    "meta_dir = dataset_dir / \"metadata\"\n",
    "\n",
    "image_dir = repo_dir / \"generated_data\"\n",
    "meta_dir = dataset_dir / \"metadata\"\n",
    "label_dir = dataset_dir / \"labels_gen\"\n",
    "response_dir = repo_dir / \"generated_data_annotations\" / \"responses\"\n",
    "\n",
    "\n",
    "with open(meta_dir / \"id_to_name_gen.json\", \"r\") as f:\n",
    "    id_to_name_gen = json.load(f)"
   ]
  },
  {
   "cell_type": "code",
   "execution_count": null,
   "metadata": {},
   "outputs": [],
   "source": [
    "# get all files from response_dir\n",
    "response_files = list(response_dir.rglob(\"*.json\"))\n",
    "response_ids = sorted([f.stem for f in response_files])\n",
    "print(f\"{len(response_files)} response files out of {len(id_to_name_gen)} images\")"
   ]
  },
  {
   "cell_type": "code",
   "execution_count": null,
   "metadata": {},
   "outputs": [],
   "source": [
    "count_yes = {}\n",
    "\n",
    "for response_file in response_files:\n",
    "    id = response_file.stem\n",
    "    if id in count_yes:\n",
    "        continue\n",
    "    else:\n",
    "        count_yes[id] = 0\n",
    "    with open(response_file, \"r\") as f:\n",
    "        response_dict = json.load(f)\n",
    "    question_list = response_dict[\"questions\"]\n",
    "    response_list = response_dict[\"responses\"]\n",
    "    for response in response_list:\n",
    "        response = response.strip()[:5]  # only check the first 5 characters\n",
    "        if (\"YES\" in response) or (\"yes\" in response) or (\"Yes\" in response):\n",
    "            count_yes[id] += 1"
   ]
  },
  {
   "cell_type": "code",
   "execution_count": null,
   "metadata": {},
   "outputs": [],
   "source": [
    "list_2y = []\n",
    "list_1y = []\n",
    "list_0y = []\n",
    "\n",
    "for id in count_yes:\n",
    "    if count_yes[id] == 2:\n",
    "        list_2y.append(id)\n",
    "    elif count_yes[id] == 1:\n",
    "        list_1y.append(id)\n",
    "    else:\n",
    "        list_0y.append(id)\n",
    "\n",
    "print(f\"2 yes: {len(list_2y)}\")\n",
    "print(f\"1 yes: {len(list_1y)}\")\n",
    "print(f\"0 yes: {len(list_0y)}\")"
   ]
  },
  {
   "cell_type": "code",
   "execution_count": null,
   "metadata": {},
   "outputs": [],
   "source": [
    "no_lmm = set(list_0y) | set(list_1y)"
   ]
  },
  {
   "cell_type": "code",
   "execution_count": null,
   "metadata": {},
   "outputs": [],
   "source": [
    "count_no = {}\n",
    "\n",
    "for response_file in response_files:\n",
    "    id = response_file.stem\n",
    "    if id in count_no:\n",
    "        continue\n",
    "    else:\n",
    "        count_no[id] = 0\n",
    "    with open(response_file, \"r\") as f:\n",
    "        response_dict = json.load(f)\n",
    "    question_list = response_dict[\"questions\"]\n",
    "    response_list = response_dict[\"responses\"]\n",
    "    for response in response_list:\n",
    "        response = response.strip()[:5]  # only check the first 5 characters\n",
    "        if (\"NO\" in response) or (\"no\" in response) or (\"No\" in response):\n",
    "            count_no[id] = count_no[id] + 1"
   ]
  },
  {
   "cell_type": "code",
   "execution_count": null,
   "metadata": {},
   "outputs": [],
   "source": [
    "list_2n = []\n",
    "list_1n = []\n",
    "list_0n = []\n",
    "\n",
    "for id in count_no:\n",
    "    if count_no[id] == 2:\n",
    "        list_2n.append(id)\n",
    "    elif count_no[id] == 1:\n",
    "        list_1n.append(id)\n",
    "    else:\n",
    "        list_0n.append(id)\n",
    "\n",
    "print(f\"2 no: {len(list_2n)}\")\n",
    "print(f\"1 no: {len(list_1n)}\")\n",
    "print(f\"0 no: {len(list_0n)}\")"
   ]
  },
  {
   "cell_type": "code",
   "execution_count": null,
   "metadata": {},
   "outputs": [],
   "source": [
    "assert no_lmm == set(list_2n) | set(list_1n)"
   ]
  },
  {
   "cell_type": "code",
   "execution_count": null,
   "metadata": {},
   "outputs": [],
   "source": [
    "# save no_lmm in both meta_dir and repo_dir\n",
    "with open(meta_dir / \"no_lmm.json\", \"w\") as f:\n",
    "    json.dump(list(no_lmm), f)\n",
    "with open(repo_dir / \"no_lmm.json\", \"w\") as f:\n",
    "    json.dump(list(no_lmm), f)"
   ]
  },
  {
   "cell_type": "code",
   "execution_count": null,
   "metadata": {},
   "outputs": [],
   "source": [
    "# copy to new folders\n",
    "import shutil\n",
    "\n",
    "new_image_dir = repo_dir / \"generated_data_no_lmm\"\n",
    "for id in no_lmm:\n",
    "    obj = id_to_name_gen[id + \".jpg\"].split(\"/\")[1].replace(\"_\", \" \")\n",
    "    new_path = (new_image_dir / obj / id).with_suffix(\".jpg\")\n",
    "    if new_path.exists():\n",
    "        continue\n",
    "    new_path.parent.mkdir(parents=True, exist_ok=True)\n",
    "    old_path = (image_dir / obj / id).with_suffix(\".jpg\")\n",
    "    shutil.copy(old_path, new_path)"
   ]
  },
  {
   "cell_type": "code",
   "execution_count": null,
   "metadata": {},
   "outputs": [],
   "source": []
  }
 ],
 "metadata": {
  "kernelspec": {
   "display_name": "alp",
   "language": "python",
   "name": "python3"
  },
  "language_info": {
   "codemirror_mode": {
    "name": "ipython",
    "version": 3
   },
   "file_extension": ".py",
   "mimetype": "text/x-python",
   "name": "python",
   "nbconvert_exporter": "python",
   "pygments_lexer": "ipython3",
   "version": "3.10.14"
  }
 },
 "nbformat": 4,
 "nbformat_minor": 2
}
