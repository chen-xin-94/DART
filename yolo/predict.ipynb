{
 "cells": [
  {
   "cell_type": "code",
   "execution_count": 2,
   "metadata": {},
   "outputs": [],
   "source": [
    "from pathlib import Path\n",
    "import shutil"
   ]
  },
  {
   "cell_type": "code",
   "execution_count": 3,
   "metadata": {},
   "outputs": [],
   "source": [
    "# Define the base directory\n",
    "dataset_dir = Path(\"/mnt/ssd2/xin/repo/DART/Liebherr_Product\")\n",
    "\n",
    "# Define the images directory and duplicates directory using Path objects\n",
    "image_dir = dataset_dir / \"images\"\n",
    "lvis_output_dir = dataset_dir / \"images_predicted\" / \"lvis\"\n",
    "lp_output_dir = dataset_dir / \"images_predicted\" / \"lp\"\n",
    "gt_output_dir = dataset_dir / \"images_predicted\" / \"gt\"\n",
    "yolo_dir = dataset_dir / \"yolo\"\n",
    "\n",
    "with open(yolo_dir / \"test_dedup_gpt_8020.txt\", \"r\") as f:\n",
    "    image_list = f.read().splitlines()\n",
    "\n",
    "# objs = sorted(list(set([i.split('/')[-2] for i in image_list])))"
   ]
  },
  {
   "cell_type": "code",
   "execution_count": null,
   "metadata": {},
   "outputs": [],
   "source": [
    "# from ultralytics import YOLO\n",
    "# lvis_weight_path = \"runs/detect/lvis/weights/best.pt\"\n",
    "# yolo = YOLO(lvis_weight_path)\n",
    "\n",
    "# images_detected_lvis = []\n",
    "\n",
    "# for img in image_list:\n",
    "#     input_path = dataset_dir / img\n",
    "#     result = yolo(input_path,verbose=False)[0]\n",
    "#     if result.boxes.shape[0] != 0: # only save images with detected objects\n",
    "#         images_detected_lvis.append(img)\n",
    "#         output_path = lvis_output_dir / img.split('/')[-2] / img.split('/')[-1]\n",
    "#         output_path.parent.mkdir(parents=True, exist_ok=True)\n",
    "#         result.save(filename=str(output_path))"
   ]
  },
  {
   "cell_type": "code",
   "execution_count": null,
   "metadata": {},
   "outputs": [],
   "source": [
    "# # check the ground truth for those images with detected objects\n",
    "# image_ann_dir = dataset_dir / 'images_annotated'\n",
    "# gt_output_dir = dataset_dir / 'images_predicted'/ 'gt'\n",
    "\n",
    "# for img in images_detected_lvis:\n",
    "#     obj = img.split('/')[-2]\n",
    "#     name = img.split('/')[-1]\n",
    "#     input_path = image_ann_dir / obj / name\n",
    "#     output_path = gt_output_dir / obj / name\n",
    "#     output_path.parent.mkdir(parents=True, exist_ok=True)\n",
    "#     shutil.copy(input_path, output_path)"
   ]
  },
  {
   "cell_type": "code",
   "execution_count": 5,
   "metadata": {},
   "outputs": [],
   "source": [
    "# get images_detected_lvis from already moved images\n",
    "\n",
    "images_detected_lvis = []\n",
    "\n",
    "for img in gt_output_dir.rglob(\"*.jpg\"):\n",
    "    img_path = str(img).replace(str(gt_output_dir), \"./images\")\n",
    "    images_detected_lvis.append(img_path)"
   ]
  },
  {
   "cell_type": "code",
   "execution_count": 6,
   "metadata": {},
   "outputs": [],
   "source": [
    "from ultralytics import YOLO\n",
    "\n",
    "lp_weight_path = \"runs/detect/n_orig_gpt/weights/best.pt\"\n",
    "yolo = YOLO(lp_weight_path)\n",
    "\n",
    "for img in images_detected_lvis:\n",
    "    input_path = dataset_dir / img\n",
    "    result = yolo(input_path, verbose=False)[0]\n",
    "\n",
    "    output_path = lp_output_dir / img.split(\"/\")[-2] / img.split(\"/\")[-1]\n",
    "    output_path.parent.mkdir(parents=True, exist_ok=True)\n",
    "    result.save(filename=str(output_path))"
   ]
  },
  {
   "cell_type": "code",
   "execution_count": 7,
   "metadata": {},
   "outputs": [],
   "source": [
    "# mix the outputs into a new folder\n",
    "mix_output_dir = dataset_dir / \"images_predicted\" / \"mix\"\n",
    "\n",
    "for img in gt_output_dir.rglob(\"*.jpg\"):\n",
    "    new_name = img.stem + \"_gt\" + img.suffix\n",
    "    new_img = mix_output_dir / img.parent.name / new_name\n",
    "    new_img.parent.mkdir(parents=True, exist_ok=True)\n",
    "    shutil.copy(img, new_img)\n",
    "\n",
    "for img in lvis_output_dir.rglob(\"*.jpg\"):\n",
    "    new_name = img.stem + \"_lvis\" + img.suffix\n",
    "    new_img = mix_output_dir / img.parent.name / new_name\n",
    "    new_img.parent.mkdir(parents=True, exist_ok=True)\n",
    "    shutil.copy(img, new_img)\n",
    "\n",
    "for img in lp_output_dir.rglob(\"*.jpg\"):\n",
    "    new_name = img.stem + \"_lp\" + img.suffix\n",
    "    new_img = mix_output_dir / img.parent.name / new_name\n",
    "    new_img.parent.mkdir(parents=True, exist_ok=True)\n",
    "    shutil.copy(img, new_img)"
   ]
  }
 ],
 "metadata": {
  "kernelspec": {
   "display_name": "alp",
   "language": "python",
   "name": "python3"
  },
  "language_info": {
   "codemirror_mode": {
    "name": "ipython",
    "version": 3
   },
   "file_extension": ".py",
   "mimetype": "text/x-python",
   "name": "python",
   "nbconvert_exporter": "python",
   "pygments_lexer": "ipython3",
   "version": "3.10.14"
  }
 },
 "nbformat": 4,
 "nbformat_minor": 2
}
