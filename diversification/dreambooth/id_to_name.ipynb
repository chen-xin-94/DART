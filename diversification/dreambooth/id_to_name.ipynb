{
 "cells": [
  {
   "cell_type": "markdown",
   "metadata": {},
   "source": [
    "# id to name dict for generated data"
   ]
  },
  {
   "cell_type": "code",
   "execution_count": 1,
   "metadata": {},
   "outputs": [],
   "source": [
    "from pathlib import Path\n",
    "import json\n",
    "from PIL import Image\n",
    "\n",
    "import shutil"
   ]
  },
  {
   "cell_type": "code",
   "execution_count": 3,
   "metadata": {},
   "outputs": [],
   "source": [
    "# Define the base directory\n",
    "dataset_dir = Path(\"/mnt/ssd2/xin/repo/DART/Liebherr_Product\")\n",
    "meta_dir = dataset_dir / \"metadata\"\n",
    "\n",
    "repo_dir = Path(\".\")\n",
    "orig_image_dir = repo_dir / \"generated_data_orig\"\n",
    "jpg_image_dir = repo_dir / \"generated_data_jpg\"\n",
    "new_image_dir = repo_dir / \"generated_data\""
   ]
  },
  {
   "cell_type": "markdown",
   "metadata": {},
   "source": [
    "## png to jpg\n"
   ]
  },
  {
   "cell_type": "code",
   "execution_count": null,
   "metadata": {},
   "outputs": [],
   "source": [
    "for path in orig_image_dir.rglob(\"*.png\"):\n",
    "    img = Image.open(path)\n",
    "    img = img.convert(\"RGB\")\n",
    "    new_path = (jpg_image_dir / path.relative_to(orig_image_dir)).with_suffix(\".jpg\")\n",
    "    if new_path.exists():\n",
    "        continue\n",
    "    new_path.parent.mkdir(parents=True, exist_ok=True)\n",
    "    img.save(new_path)"
   ]
  },
  {
   "cell_type": "markdown",
   "metadata": {},
   "source": [
    "## file count"
   ]
  },
  {
   "cell_type": "code",
   "execution_count": 5,
   "metadata": {},
   "outputs": [
    {
     "name": "stdout",
     "output_type": "stream",
     "text": [
      "There are 68220 files in 'generated_data_jpg'\n"
     ]
    }
   ],
   "source": [
    "def count_files_in_directory(directory):\n",
    "    total_files = 0\n",
    "    for file in directory.rglob(\"*\"):\n",
    "        if file.is_file():\n",
    "            total_files += 1\n",
    "    return total_files\n",
    "\n",
    "\n",
    "file_count = count_files_in_directory(jpg_image_dir)\n",
    "print(f\"There are {file_count} files in '{jpg_image_dir}'\")"
   ]
  },
  {
   "cell_type": "code",
   "execution_count": 6,
   "metadata": {},
   "outputs": [
    {
     "name": "stdout",
     "output_type": "stream",
     "text": [
      "There are 3520 files in 'generated_data_orig'\n"
     ]
    }
   ],
   "source": [
    "file_count = count_files_in_directory(orig_image_dir)\n",
    "print(f\"There are {file_count} files in '{orig_image_dir}'\")"
   ]
  },
  {
   "cell_type": "markdown",
   "metadata": {},
   "source": [
    "## rename"
   ]
  },
  {
   "cell_type": "code",
   "execution_count": 11,
   "metadata": {},
   "outputs": [],
   "source": [
    "# function\n",
    "def restructure_and_rename(src_dir, dst_dir, old_map=None, prefix=\"d\", copy=False):\n",
    "    \"\"\"\n",
    "    1. restructure the directroy to a similar structure as the original dataset\n",
    "    2. rename files with padded 0 and then add prefix\n",
    "    \"\"\"\n",
    "    total_files = count_files_in_directory(src_dir)\n",
    "    total_digits = len(str(total_files - 1))  # Number of digits in the largest ID\n",
    "\n",
    "    if old_map is not None:\n",
    "        old_ids = set(old_map.keys())\n",
    "        current_id = len(old_ids)\n",
    "        name_map = old_map\n",
    "    else:\n",
    "        old_ids = None\n",
    "        current_id = 0\n",
    "        name_map = {}  # Dictionary to store new ID and old filename mappings\n",
    "\n",
    "    for path in sorted(src_dir.rglob(\"*.jpg\")):\n",
    "        new_value = path.relative_to(src_dir).as_posix()\n",
    "        if new_value in name_map.values():\n",
    "            continue\n",
    "        # old path structure: image_dir/MODEL_NAME/OBJ_/INSTANCE/XXXX.jpg\n",
    "        new_file_stem = str(current_id).zfill(total_digits)\n",
    "        if old_ids is not None:\n",
    "            while new_file_stem in old_ids:\n",
    "                current_id += 1\n",
    "                new_file_stem = str(current_id).zfill(total_digits)\n",
    "        obj_ = path.parent.parent.name\n",
    "        obj = obj_.replace(\"_\", \" \")\n",
    "        new_filename = f\"{prefix}{new_file_stem}{path.suffix}\"\n",
    "        new_path = dst_dir / obj / new_filename\n",
    "        new_path.parent.mkdir(parents=True, exist_ok=True)\n",
    "        name_map[new_filename] = new_value\n",
    "        if copy:\n",
    "            shutil.copy(path, new_path)\n",
    "        current_id += 1\n",
    "    return name_map"
   ]
  },
  {
   "cell_type": "markdown",
   "metadata": {},
   "source": [
    "### Once first rename is DONE, and should NOT be run again"
   ]
  },
  {
   "cell_type": "code",
   "execution_count": null,
   "metadata": {},
   "outputs": [],
   "source": [
    "id_to_name = restructure_and_rename(jpg_image_dir, new_image_dir, copy=True)\n",
    "print(len(id_to_name))\n",
    "\n",
    "# save\n",
    "with open(repo_dir / \"id_to_name_gen.json\", \"w\") as f:\n",
    "    json.dump(id_to_name, f, indent=4)"
   ]
  },
  {
   "cell_type": "markdown",
   "metadata": {},
   "source": [
    "## move files around"
   ]
  },
  {
   "cell_type": "code",
   "execution_count": null,
   "metadata": {},
   "outputs": [],
   "source": [
    "# # move files back to old image according to the old_id_to_name mapping\n",
    "# for id in old_id_to_name:\n",
    "#     obj_ = old_id_to_name[id].split('/')[1]\n",
    "#     obj = obj_.replace('_', ' ')\n",
    "#     cur_path = new_image_dir / obj / id\n",
    "#     if not cur_path.exists():\n",
    "#         continue\n",
    "#     else:\n",
    "#         # move back to old path\n",
    "#         old_path = jpg_image_dir / old_id_to_name[id]\n",
    "#         shutil.move(cur_path, old_path)"
   ]
  },
  {
   "cell_type": "code",
   "execution_count": null,
   "metadata": {},
   "outputs": [],
   "source": [
    "# # copy files from jpg_image_dir to new_image_dir according to the old_id_to_name mapping\n",
    "# for id in old_id_to_name:\n",
    "#     obj_ = old_id_to_name[id].split('/')[1]\n",
    "#     obj = obj_.replace('_', ' ')\n",
    "#     new_path = new_image_dir / obj / id\n",
    "#     if new_path.exists():\n",
    "#         continue\n",
    "#     else:\n",
    "#         old_path = jpg_image_dir / old_id_to_name[id]\n",
    "#         new_path.parent.mkdir(parents=True, exist_ok=True)\n",
    "#         shutil.copy(old_path, new_path)"
   ]
  },
  {
   "cell_type": "markdown",
   "metadata": {},
   "source": [
    "## append new data\n"
   ]
  },
  {
   "cell_type": "code",
   "execution_count": null,
   "metadata": {},
   "outputs": [],
   "source": [
    "with open(repo_dir / \"id_to_name_gen.json\", \"r\") as f:\n",
    "    old_id_to_name = json.load(f)\n",
    "\n",
    "id_to_name = restructure_and_rename(\n",
    "    jpg_image_dir, new_image_dir, old_id_to_name, copy=False\n",
    ")\n",
    "print(len(id_to_name))"
   ]
  },
  {
   "cell_type": "code",
   "execution_count": null,
   "metadata": {},
   "outputs": [],
   "source": [
    "# copy based on new id_to_name mapping\n",
    "count = 0\n",
    "for id in id_to_name:\n",
    "    obj_ = id_to_name[id].split(\"/\")[1]\n",
    "    obj = obj_.replace(\"_\", \" \")\n",
    "    new_path = new_image_dir / obj / id\n",
    "    if new_path.exists():\n",
    "        continue\n",
    "    else:\n",
    "        count += 1\n",
    "        old_path = jpg_image_dir / id_to_name[id]\n",
    "        new_path.parent.mkdir(parents=True, exist_ok=True)\n",
    "        shutil.copy(old_path, new_path)\n",
    "print(f\"Copied {count} files\")"
   ]
  },
  {
   "cell_type": "code",
   "execution_count": null,
   "metadata": {},
   "outputs": [],
   "source": [
    "# save, update the id_to_name mapping\n",
    "with open(repo_dir / \"id_to_name_gen.json\", \"w\") as f:\n",
    "    json.dump(id_to_name, f, indent=4)"
   ]
  },
  {
   "cell_type": "markdown",
   "metadata": {},
   "source": [
    "## copy the saved id_to_name_gen.json to metadata_dir"
   ]
  },
  {
   "cell_type": "code",
   "execution_count": null,
   "metadata": {},
   "outputs": [],
   "source": [
    "import shutil\n",
    "\n",
    "shutil.copy(repo_dir / \"id_to_name_gen.json\", meta_dir / \"id_to_name_gen.json\")"
   ]
  },
  {
   "cell_type": "code",
   "execution_count": null,
   "metadata": {},
   "outputs": [],
   "source": []
  }
 ],
 "metadata": {
  "kernelspec": {
   "display_name": "alp",
   "language": "python",
   "name": "python3"
  },
  "language_info": {
   "codemirror_mode": {
    "name": "ipython",
    "version": 3
   },
   "file_extension": ".py",
   "mimetype": "text/x-python",
   "name": "python",
   "nbconvert_exporter": "python",
   "pygments_lexer": "ipython3",
   "version": "3.10.14"
  }
 },
 "nbformat": 4,
 "nbformat_minor": 2
}
