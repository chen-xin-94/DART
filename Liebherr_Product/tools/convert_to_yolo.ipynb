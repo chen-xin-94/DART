{
 "cells": [
  {
   "cell_type": "code",
   "execution_count": 8,
   "metadata": {},
   "outputs": [],
   "source": [
    "from pathlib import Path\n",
    "import json\n",
    "from PIL import Image\n",
    "import os"
   ]
  },
  {
   "cell_type": "code",
   "execution_count": 9,
   "metadata": {},
   "outputs": [],
   "source": [
    "dataset_dir = Path(\"..\")\n",
    "\n",
    "\n",
    "# Define the images directory and duplicates directory using Path objects\n",
    "image_dir = dataset_dir / \"images\"\n",
    "meta_dir = dataset_dir / \"metadata\"\n",
    "label_dir = dataset_dir / \"labels\"\n",
    "yolo_dir = dataset_dir / \"yolo\"\n",
    "yolo_label_dir = yolo_dir / \"labels\"\n",
    "yolo_image_dir = yolo_dir / \"images\"\n",
    "yolo_label_dir.mkdir(exist_ok=True, parents=True)\n",
    "if not yolo_image_dir.exists():\n",
    "    os.symlink(image_dir, yolo_dir / \"images\", target_is_directory=True)\n",
    "\n",
    "# List all objects in the image directory\n",
    "objs = sorted([obj.name for obj in image_dir.iterdir()])\n",
    "\n",
    "with open(meta_dir / \"id_to_name.json\", \"r\") as f:\n",
    "    id_to_name = json.load(f)\n",
    "\n",
    "with open(meta_dir / \"near_duplicates.json\", \"r\") as f:\n",
    "    near_duplicates = json.load(f)\n",
    "\n",
    "with open(label_dir / \"labels_nms.json\", \"r\") as f:\n",
    "    labels_nms = json.load(f)"
   ]
  },
  {
   "cell_type": "markdown",
   "metadata": {},
   "source": [
    "## yolo format"
   ]
  },
  {
   "cell_type": "code",
   "execution_count": 10,
   "metadata": {},
   "outputs": [
    {
     "name": "stdout",
     "output_type": "stream",
     "text": [
      "  0: articulated dump truck\n",
      "  1: bulldozer\n",
      "  2: combined piling and drilling rig\n",
      "  3: crawler crane\n",
      "  4: crawler excavator\n",
      "  5: crawler loader\n",
      "  6: duty cycle crane\n",
      "  7: gantry crane\n",
      "  8: log loader\n",
      "  9: maritime crane\n",
      "  10: material handling machine\n",
      "  11: mining bulldozer\n",
      "  12: mining excavator\n",
      "  13: mining truck\n",
      "  14: mobile crane\n",
      "  15: pipelayer\n",
      "  16: pontoon excavator\n",
      "  17: reachstacker\n",
      "  18: telescopic handler\n",
      "  19: tower crane\n",
      "  20: truck mixer\n",
      "  21: wheel excavator\n",
      "  22: wheel loader\n"
     ]
    }
   ],
   "source": [
    "with open(meta_dir / \"classes.json\", \"r\") as f:\n",
    "    class_dict = json.load(f)\n",
    "\n",
    "for k, v in class_dict.items():\n",
    "    print(f\"  {v}: {k}\")"
   ]
  },
  {
   "cell_type": "code",
   "execution_count": 11,
   "metadata": {},
   "outputs": [
    {
     "name": "stdout",
     "output_type": "stream",
     "text": [
      "15270\n"
     ]
    }
   ],
   "source": [
    "image_list = []\n",
    "for id, ann in labels_nms.items():\n",
    "    if ann[\"boxes\"] == []:  # Skip images with no annotations\n",
    "        continue\n",
    "    obj = id_to_name[id + \".jpg\"].split(\"/\")[0]\n",
    "    image_list.append(f\"./images/{obj}/{id}.jpg\")\n",
    "    boxes_xywh = ann[\"boxes\"]\n",
    "    classes = ann[\"classes\"]\n",
    "    cls_ids = [class_dict[class_name] for class_name in classes]\n",
    "\n",
    "    txt = \"\"\n",
    "    # yolo format: \"class_id x y w h\"\n",
    "    for i in range(len(boxes_xywh)):\n",
    "        cls_id = cls_ids[i]\n",
    "        box = boxes_xywh[i]\n",
    "        txt += f\"{cls_id} {box[0]:.6f} {box[1]:.6f} {box[2]:.6f} {box[3]:.6f}\\n\"\n",
    "\n",
    "    # save\n",
    "    (yolo_label_dir / obj).mkdir(exist_ok=True, parents=True)\n",
    "    with open(yolo_label_dir / obj / (id + \".txt\"), \"w\") as f:\n",
    "        f.write(txt)\n",
    "\n",
    "print(len(image_list))"
   ]
  }
 ],
 "metadata": {
  "kernelspec": {
   "display_name": "alp",
   "language": "python",
   "name": "python3"
  },
  "language_info": {
   "codemirror_mode": {
    "name": "ipython",
    "version": 3
   },
   "file_extension": ".py",
   "mimetype": "text/x-python",
   "name": "python",
   "nbconvert_exporter": "python",
   "pygments_lexer": "ipython3",
   "version": "3.10.14"
  }
 },
 "nbformat": 4,
 "nbformat_minor": 2
}
