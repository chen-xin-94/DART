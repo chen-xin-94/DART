{
 "cells": [
  {
   "cell_type": "code",
   "execution_count": 1,
   "metadata": {},
   "outputs": [],
   "source": [
    "# merge all labels_nms"
   ]
  },
  {
   "cell_type": "code",
   "execution_count": 1,
   "metadata": {},
   "outputs": [],
   "source": [
    "from pathlib import Path\n",
    "import json\n",
    "\n",
    "dataset_dir = Path(\"/mnt/ssd2/xin/repo/DART/Liebherr_Product\")\n",
    "\n",
    "label_dir_gen = dataset_dir / \"labels_gen\"\n",
    "label_dir_orig = dataset_dir / \"labels\"\n",
    "label_dir_background = dataset_dir / \"labels_background\"\n",
    "label_dir_all = dataset_dir / \"labels_all\"\n",
    "label_dir_all.mkdir(exist_ok=True)\n",
    "\n",
    "with open(label_dir_gen / \"labels_nms.json\", \"r\") as f:\n",
    "    labels_nms_gen = json.load(f)\n",
    "with open(label_dir_orig / \"labels_nms.json\", \"r\") as f:\n",
    "    labels_nms_orig = json.load(f)\n",
    "with open(label_dir_background / \"labels_nms.json\", \"r\") as f:\n",
    "    labels_nms_background = json.load(f)\n",
    "\n",
    "with open(label_dir_gen / \"stats_summary_nms.json\", \"r\") as f:\n",
    "    stats_summary_nms_gen = json.load(f)\n",
    "with open(label_dir_orig / \"stats_summary.json\", \"r\") as f:\n",
    "    stats_summary_nms_orig = json.load(f)[\"nms\"]\n",
    "with open(label_dir_background / \"stats_summary.json\", \"r\") as f:\n",
    "    stats_summary_nms_background = json.load(f)[\"nms\"]\n",
    "\n",
    "with open(label_dir_gen / \"stats_obj_nms.json\", \"r\") as f:\n",
    "    stats_obj_nms_gen = json.load(f)\n",
    "with open(label_dir_orig / \"stats_obj.json\", \"r\") as f:\n",
    "    stats_obj_nms_orig = json.load(f)[\"nms\"]\n",
    "with open(label_dir_background / \"stats_obj.json\", \"r\") as f:\n",
    "    stats_obj_nms_background = json.load(f)[\"nms\"]\n",
    "\n",
    "with open(label_dir_gen / \"no_ann.json\", \"r\") as f:\n",
    "    no_ann_gen = json.load(f)\n",
    "with open(label_dir_orig / \"no_ann.json\", \"r\") as f:\n",
    "    no_ann_orig = json.load(f)\n",
    "with open(label_dir_background / \"no_ann.json\", \"r\") as f:\n",
    "    no_ann_background = json.load(f)"
   ]
  },
  {
   "cell_type": "code",
   "execution_count": 2,
   "metadata": {},
   "outputs": [],
   "source": [
    "def merge_stats_dicts(tbm):\n",
    "    return {\n",
    "        \"avg_score\": sum([x[\"avg_score\"] * x[\"num_ann\"] for x in tbm])\n",
    "        / sum([x[\"num_ann\"] for x in tbm]),\n",
    "        \"num_ann\": sum([x[\"num_ann\"] for x in tbm]),\n",
    "        \"num_img\": sum([x[\"num_img\"] for x in tbm]),\n",
    "    }"
   ]
  },
  {
   "cell_type": "code",
   "execution_count": 3,
   "metadata": {},
   "outputs": [],
   "source": [
    "# merge labels\n",
    "labels_nms_all = labels_nms_orig | labels_nms_gen | labels_nms_background\n",
    "\n",
    "# merge stats_summary\n",
    "stats_summary_nms_all = merge_stats_dicts(\n",
    "    [stats_summary_nms_orig, stats_summary_nms_gen, stats_summary_nms_background]\n",
    ")\n",
    "\n",
    "# merge stats_obj\n",
    "tbm = [stats_obj_nms_orig, stats_obj_nms_gen, stats_obj_nms_background]\n",
    "objs = stats_obj_nms_gen.keys()\n",
    "stats_obj_nms_all = {obj: merge_stats_dicts([x[obj] for x in tbm]) for obj in objs}\n",
    "\n",
    "# merge no_ann\n",
    "no_ann_all = [*no_ann_orig, *no_ann_gen, *no_ann_background]"
   ]
  },
  {
   "cell_type": "code",
   "execution_count": 4,
   "metadata": {},
   "outputs": [],
   "source": [
    "# save\n",
    "with open(label_dir_all / \"labels_nms.json\", \"w\") as f:\n",
    "    json.dump(labels_nms_all, f, indent=4)\n",
    "with open(label_dir_all / \"stats_summary_nms.json\", \"w\") as f:\n",
    "    json.dump(stats_summary_nms_all, f, indent=4)\n",
    "with open(label_dir_all / \"stats_obj_nms.json\", \"w\") as f:\n",
    "    json.dump(stats_obj_nms_all, f, indent=4)\n",
    "with open(label_dir_all / \"no_ann.json\", \"w\") as f:\n",
    "    json.dump(no_ann_all, f, indent=4)"
   ]
  },
  {
   "cell_type": "code",
   "execution_count": null,
   "metadata": {},
   "outputs": [],
   "source": []
  }
 ],
 "metadata": {
  "kernelspec": {
   "display_name": "alp",
   "language": "python",
   "name": "python3"
  },
  "language_info": {
   "codemirror_mode": {
    "name": "ipython",
    "version": 3
   },
   "file_extension": ".py",
   "mimetype": "text/x-python",
   "name": "python",
   "nbconvert_exporter": "python",
   "pygments_lexer": "ipython3",
   "version": "3.10.14"
  }
 },
 "nbformat": 4,
 "nbformat_minor": 2
}
