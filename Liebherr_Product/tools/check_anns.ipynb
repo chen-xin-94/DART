{
 "cells": [
  {
   "cell_type": "code",
   "execution_count": 1,
   "metadata": {},
   "outputs": [],
   "source": [
    "import os\n",
    "\n",
    "# to turn off SupervisionWarnings, note that the following code must be run before importing anything from supervision\n",
    "# https://github.com/roboflow/supervision/pull/962/commits/7d65a9445aa04d82334c6fe2828278e528eda1cb\n",
    "os.environ[\"SUPERVISON_DEPRECATION_WARNING\"] = \"0\""
   ]
  },
  {
   "cell_type": "code",
   "execution_count": 2,
   "metadata": {},
   "outputs": [],
   "source": [
    "from pathlib import Path\n",
    "import json\n",
    "from PIL import Image\n",
    "from matplotlib import pyplot as plt\n",
    "import numpy as np\n",
    "import shutil\n",
    "from utils import load_image, annotate"
   ]
  },
  {
   "cell_type": "code",
   "execution_count": 3,
   "metadata": {},
   "outputs": [],
   "source": [
    "# Define the base directory\n",
    "dataset_dir = Path(\"..\")\n",
    "\n",
    "# Define the images directory and duplicates directory using Path objects\n",
    "image_dir = dataset_dir / \"images\"\n",
    "dup_dir = dataset_dir / \"duplicates\"\n",
    "meta_dir = dataset_dir / \"metadata\"\n",
    "ann_dir = dataset_dir / \"annotations\"\n",
    "\n",
    "# List all objects in the image directory\n",
    "objs = sorted([obj.name for obj in image_dir.iterdir()])"
   ]
  },
  {
   "cell_type": "code",
   "execution_count": 4,
   "metadata": {},
   "outputs": [],
   "source": [
    "with open(meta_dir / \"id_to_name.json\", \"r\") as f:\n",
    "    id_to_name = json.load(f)"
   ]
  },
  {
   "cell_type": "markdown",
   "metadata": {},
   "source": [
    "## check images with no annotations in [0] but have annotations in [1]"
   ]
  },
  {
   "cell_type": "markdown",
   "metadata": {},
   "source": [
    "naming convention:\n",
    "\n",
    "e.g. 35n_25y means comparing images that doesn't have annotations if box_threshold is set as 0.35 but have annotations if box_threshold is 0.25"
   ]
  },
  {
   "cell_type": "code",
   "execution_count": 23,
   "metadata": {},
   "outputs": [],
   "source": [
    "comp_groups = [[35, 25], [35, 30], [40, 35], [45, 40]]"
   ]
  },
  {
   "cell_type": "code",
   "execution_count": 24,
   "metadata": {},
   "outputs": [
    {
     "name": "stdout",
     "output_type": "stream",
     "text": [
      "Number of images with no annotations in 35 but with annotations in 25: 243\n",
      "Number of images with no annotations in 35 but with annotations in 30: 210\n",
      "Number of images with no annotations in 40 but with annotations in 35: 706\n",
      "Number of images with no annotations in 45 but with annotations in 40: 1148\n"
     ]
    }
   ],
   "source": [
    "for comp_g in comp_groups:\n",
    "    label_dir_no = dataset_dir / f\"labels_0.{comp_g[0]}_0.25\"\n",
    "    label_dir_yes = dataset_dir / f\"labels_0.{comp_g[1]}_0.25\"\n",
    "\n",
    "    with open(label_dir_yes / \"labels.json\", \"r\") as f:\n",
    "        labels_nms_yes = json.load(f)[\"nms\"]\n",
    "\n",
    "    with open(label_dir_no / \"no_ann.json\", \"r\") as f:\n",
    "        no_ann_no = json.load(f)\n",
    "    with open(label_dir_yes / \"no_ann.json\", \"r\") as f:\n",
    "        no_ann_yes = json.load(f)\n",
    "\n",
    "    result_folder = Path(f\"../annotations_{comp_g[0]}n_{comp_g[1]}y\")\n",
    "    result_folder.mkdir(exist_ok=True)\n",
    "\n",
    "    no_ann_diff = list(set(no_ann_no) - set(no_ann_yes))\n",
    "\n",
    "    print(\n",
    "        f\"Number of images with no annotations in {comp_g[0]} but with annotations in {comp_g[1]}: {len(no_ann_diff)}\"\n",
    "    )\n",
    "\n",
    "    # if save images\n",
    "    for _, id in enumerate(no_ann_diff):\n",
    "        file = id + \".jpg\"\n",
    "        obj = id_to_name[file].split(\"/\")[0]\n",
    "        img_path = image_dir / obj / file\n",
    "        if not img_path.exists():\n",
    "            print(f\"{img_path} does not exist\")\n",
    "            continue\n",
    "        img = load_image(img_path, size=800)\n",
    "        boxes_xywh = labels_nms_yes[id][\"boxes\"]\n",
    "        if len(boxes_xywh) == 0:\n",
    "            img.save(result_folder / file)\n",
    "        else:\n",
    "            logits = labels_nms_yes[id][\"logits\"]\n",
    "            phrases = labels_nms_yes[id][\"phrases\"]\n",
    "            annotated_frame = annotate(img, boxes_xywh, logits, phrases)\n",
    "            annotated_frame.save(result_folder / file)"
   ]
  },
  {
   "cell_type": "markdown",
   "metadata": {},
   "source": [
    "## more stats for 35n_25y"
   ]
  },
  {
   "cell_type": "code",
   "execution_count": 35,
   "metadata": {},
   "outputs": [],
   "source": [
    "# more stats for 35n_25y\n",
    "comp_g = [35, 25]\n",
    "label_dir_no = dataset_dir / f\"labels_0.{comp_g[0]}_0.25\"\n",
    "label_dir_yes = dataset_dir / f\"labels_0.{comp_g[1]}_0.25\"\n",
    "\n",
    "with open(label_dir_yes / \"labels.json\", \"r\") as f:\n",
    "    labels_nms_yes = json.load(f)[\"nms\"]\n",
    "\n",
    "with open(label_dir_no / \"no_ann.json\", \"r\") as f:\n",
    "    no_ann_no = json.load(f)\n",
    "with open(label_dir_yes / \"no_ann.json\", \"r\") as f:\n",
    "    no_ann_yes = json.load(f)\n",
    "\n",
    "result_folder = Path(f\"../annotations_{comp_g[0]}n_{comp_g[1]}y\")\n",
    "result_folder.mkdir(exist_ok=True)\n",
    "no_ann_diff = list(set(no_ann_no) - set(no_ann_yes))\n",
    "\n",
    "labels_relevant = [labels_nms_yes[k] for k in no_ann_diff]\n",
    "scores_relevant = [label[\"logits\"] for label in labels_relevant]\n",
    "scores_relevant = [score for scores in scores_relevant for score in scores]"
   ]
  },
  {
   "cell_type": "code",
   "execution_count": 32,
   "metadata": {},
   "outputs": [
    {
     "data": {
      "text/plain": [
       "(array([ 3., 10., 13., 15., 22., 16., 38., 45., 55.]),\n",
       " array([0.25, 0.26, 0.27, 0.28, 0.29, 0.3 , 0.31, 0.32, 0.33, 0.34]),\n",
       " <BarContainer object of 9 artists>)"
      ]
     },
     "execution_count": 32,
     "metadata": {},
     "output_type": "execute_result"
    },
    {
     "data": {
      "image/png": "[encoded data removed]",
      "text/plain": [
       "<Figure size 640x480 with 1 Axes>"
      ]
     },
     "metadata": {},
     "output_type": "display_data"
    }
   ],
   "source": [
    "plt.hist(scores_relevant, bins=np.arange(0.25, 0.35, 0.01))"
   ]
  },
  {
   "cell_type": "code",
   "execution_count": 46,
   "metadata": {},
   "outputs": [],
   "source": [
    "# get the indexes of the annotations with logits between 0.25 and 0.27\n",
    "idxs = []\n",
    "for i, label in enumerate(labels_relevant):\n",
    "    for score in label[\"logits\"]:\n",
    "        if 0.27 <= score <= 0.28:\n",
    "            idxs.append(i)\n",
    "ids = sorted([no_ann_diff[i] for i in idxs])"
   ]
  },
  {
   "cell_type": "code",
   "execution_count": 47,
   "metadata": {},
   "outputs": [
    {
     "name": "stdout",
     "output_type": "stream",
     "text": [
      "00494\n",
      "[0.2792578339576721]\n",
      "00601\n",
      "[0.3212573528289795, 0.27930694818496704]\n",
      "00602\n",
      "[0.3018553853034973, 0.2787165939807892]\n",
      "00638\n",
      "[0.3248947262763977, 0.27209657430648804]\n",
      "02051\n",
      "[0.2739858329296112]\n",
      "05959\n",
      "[0.3287976384162903, 0.2739144563674927]\n",
      "06192\n",
      "[0.2754422426223755]\n",
      "06721\n",
      "[0.2975076735019684, 0.27620983123779297]\n",
      "07011\n",
      "[0.28566569089889526, 0.27596667408943176]\n",
      "07653\n",
      "[0.34092071652412415, 0.2737738788127899]\n",
      "07892\n",
      "[0.27228277921676636]\n",
      "08314\n",
      "[0.3408918082714081, 0.27030354738235474]\n",
      "08919\n",
      "[0.2760041058063507]\n"
     ]
    }
   ],
   "source": [
    "for id in ids:\n",
    "    print(id)\n",
    "    print(labels_nms_yes[id][\"logits\"])"
   ]
  },
  {
   "cell_type": "code",
   "execution_count": 48,
   "metadata": {},
   "outputs": [
    {
     "name": "stdout",
     "output_type": "stream",
     "text": [
      "..\\annotations_35n_25y\\00494.jpg does not exist\n",
      "..\\annotations_35n_25y\\00601.jpg does not exist\n",
      "..\\annotations_35n_25y\\00602.jpg does not exist\n",
      "..\\annotations_35n_25y\\00638.jpg does not exist\n",
      "..\\annotations_35n_25y\\02051.jpg does not exist\n",
      "..\\annotations_35n_25y\\05959.jpg does not exist\n",
      "..\\annotations_35n_25y\\06192.jpg does not exist\n",
      "..\\annotations_35n_25y\\06721.jpg does not exist\n",
      "..\\annotations_35n_25y\\07011.jpg does not exist\n",
      "..\\annotations_35n_25y\\07653.jpg does not exist\n",
      "..\\annotations_35n_25y\\07892.jpg does not exist\n",
      "..\\annotations_35n_25y\\08314.jpg does not exist\n",
      "..\\annotations_35n_25y\\08919.jpg does not exist\n"
     ]
    }
   ],
   "source": [
    "# move the images to a new folder\n",
    "tmp_folder = Path(\"../tmp\")\n",
    "tmp_folder.mkdir(exist_ok=True)\n",
    "for id in ids:\n",
    "    file = id + \".jpg\"\n",
    "    src = result_folder / file\n",
    "    if not src.exists():\n",
    "        print(f\"{src} does not exist\")\n",
    "        continue\n",
    "    dst = tmp_folder / file\n",
    "    shutil.move(src, dst)"
   ]
  },
  {
   "cell_type": "markdown",
   "metadata": {},
   "source": [
    "## decide which images to prompt to gpt4"
   ]
  },
  {
   "cell_type": "markdown",
   "metadata": {},
   "source": [
    "after previous 2 blocks, box_threshold is set to 0.27, \n",
    "\n",
    "now check out stats and images with different logits threshold"
   ]
  },
  {
   "cell_type": "code",
   "execution_count": 5,
   "metadata": {},
   "outputs": [],
   "source": [
    "label_dir = dataset_dir / \"labels\"\n",
    "with open(label_dir / \"labels.json\", \"r\") as f:\n",
    "    labels_nms = json.load(f)[\"nms\"]"
   ]
  },
  {
   "cell_type": "markdown",
   "metadata": {},
   "source": [
    "### plot iamges based on labels"
   ]
  },
  {
   "cell_type": "code",
   "execution_count": 6,
   "metadata": {},
   "outputs": [],
   "source": [
    "image_annotated_dir = dataset_dir / \"images_annotated\"\n",
    "\n",
    "for id in labels_nms:\n",
    "    file = id + \".jpg\"\n",
    "    obj = id_to_name[file].split(\"/\")[0]\n",
    "    img_path = image_dir / obj / file\n",
    "    annotated_img_path = image_annotated_dir / obj / file\n",
    "    if annotated_img_path.exists():\n",
    "        continue\n",
    "    if not img_path.exists():\n",
    "        print(f\"{img_path} does not exist\")\n",
    "        continue\n",
    "    boxes_xywh = labels_nms[id][\"boxes\"]\n",
    "    if len(boxes_xywh) == 0:\n",
    "        continue\n",
    "\n",
    "    logits = labels_nms[id][\"logits\"]\n",
    "    classes = labels_nms[id][\"classes\"]\n",
    "    img = load_image(img_path, size=512)\n",
    "    annotated_frame = annotate(img, boxes_xywh, logits, classes)\n",
    "    annotated_img_path.parent.mkdir(exist_ok=True, parents=True)\n",
    "    annotated_frame.save(annotated_img_path)"
   ]
  },
  {
   "cell_type": "code",
   "execution_count": 7,
   "metadata": {},
   "outputs": [
    {
     "data": {
      "text/plain": [
       "17309"
      ]
     },
     "execution_count": 7,
     "metadata": {},
     "output_type": "execute_result"
    }
   ],
   "source": [
    "socres_all = [ann[\"logits\"] for ann in labels_nms.values()]\n",
    "socres_all = [score for scores in socres_all for score in scores]\n",
    "len(socres_all)"
   ]
  },
  {
   "cell_type": "code",
   "execution_count": 8,
   "metadata": {},
   "outputs": [
    {
     "data": {
      "text/plain": [
       "(array([  25.,  904., 2348., 4032., 3467., 3111., 2499.,  923.]),\n",
       " array([0.2, 0.3, 0.4, 0.5, 0.6, 0.7, 0.8, 0.9, 1. ]),\n",
       " <BarContainer object of 8 artists>)"
      ]
     },
     "execution_count": 8,
     "metadata": {},
     "output_type": "execute_result"
    },
    {
     "data": {
      "image/png": "[encoded data removed]",
      "text/plain": [
       "<Figure size 640x480 with 1 Axes>"
      ]
     },
     "metadata": {},
     "output_type": "display_data"
    }
   ],
   "source": [
    "plt.hist(socres_all, bins=np.arange(0.2, 1.1, 0.1))"
   ]
  },
  {
   "cell_type": "code",
   "execution_count": 9,
   "metadata": {},
   "outputs": [
    {
     "name": "stdout",
     "output_type": "stream",
     "text": [
      "Number of images with logits between 0.9 and 1.0: 923\n",
      "Number of images with logits between 0.8 and 0.9: 2499\n",
      "Number of images with logits between 0.7 and 0.8: 3011\n",
      "Number of images with logits between 0.6 and 0.7: 3129\n",
      "Number of images with logits between 0.5 and 0.6: 3394\n",
      "Number of images with logits between 0.4 and 0.5: 2348\n",
      "Number of images with logits between 0.3 and 0.4: 904\n",
      "Number of images with logits between 0.2 and 0.3: 25\n"
     ]
    }
   ],
   "source": [
    "# split images based on bins\n",
    "image_by_score = dataset_dir / \"images_by_score\"\n",
    "# labeled_image_dir = ann_dir/ 'nms'/ 'images'\n",
    "src_to_dst = {}\n",
    "\n",
    "bins = np.arange(1.0, 0.1, -0.1)\n",
    "for i in range(len(bins) - 1):\n",
    "    bin_min = bins[i + 1]\n",
    "    bin_max = bins[i]\n",
    "    ids = [\n",
    "        id\n",
    "        for id, ann in labels_nms.items()\n",
    "        if any([bin_min <= score <= bin_max for score in ann[\"logits\"]])\n",
    "    ]\n",
    "    print(\n",
    "        f\"Number of images with logits between {bin_min:.1f} and {bin_max:.1f}: {len(ids)}\"\n",
    "    )\n",
    "    for id in ids:\n",
    "        file = id + \".jpg\"\n",
    "        obj = id_to_name[file].split(\"/\")[0]\n",
    "        src = image_annotated_dir / obj / file\n",
    "        dst = image_by_score / f\"{bin_min:.1f}-{bin_max:.1f}\" / obj / file\n",
    "        # dst = image_by_score / f'{bin_min:.1f}-{bin_max:.1f}' / file\n",
    "\n",
    "        src_to_dst[src] = (\n",
    "            dst  # key updated by smallest bin if the same image is in multiple bins\n",
    "        )\n",
    "        dst.parent.mkdir(parents=True, exist_ok=True)\n",
    "\n",
    "\n",
    "for src, dst in src_to_dst.items():\n",
    "    if not src.exists():\n",
    "        print(f\"{src} does not exist\")\n",
    "        continue\n",
    "    else:\n",
    "        shutil.copy(src, dst)"
   ]
  },
  {
   "cell_type": "code",
   "execution_count": 10,
   "metadata": {},
   "outputs": [
    {
     "data": {
      "text/plain": [
       "4776"
      ]
     },
     "execution_count": 10,
     "metadata": {},
     "output_type": "execute_result"
    }
   ],
   "source": [
    "to_gpt = []\n",
    "for id, ann in labels_nms.items():\n",
    "    if len(ann[\"logits\"]) > 1:\n",
    "        to_gpt.append(id)\n",
    "\n",
    "    elif any([score < 0.5 for score in ann[\"logits\"]]):\n",
    "        to_gpt.append(id)\n",
    "\n",
    "len(to_gpt)"
   ]
  },
  {
   "cell_type": "code",
   "execution_count": 11,
   "metadata": {},
   "outputs": [],
   "source": [
    "with open(meta_dir / \"to_gpt.json\", \"w\") as f:\n",
    "    json.dump(to_gpt, f)"
   ]
  }
 ],
 "metadata": {
  "kernelspec": {
   "display_name": "alp",
   "language": "python",
   "name": "python3"
  },
  "language_info": {
   "codemirror_mode": {
    "name": "ipython",
    "version": 3
   },
   "file_extension": ".py",
   "mimetype": "text/x-python",
   "name": "python",
   "nbconvert_exporter": "python",
   "pygments_lexer": "ipython3",
   "version": "3.10.14"
  }
 },
 "nbformat": 4,
 "nbformat_minor": 2
}
