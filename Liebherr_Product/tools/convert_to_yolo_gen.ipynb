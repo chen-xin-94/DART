{
 "cells": [
  {
   "cell_type": "code",
   "execution_count": 4,
   "metadata": {},
   "outputs": [],
   "source": [
    "from pathlib import Path\n",
    "import json\n",
    "from PIL import Image"
   ]
  },
  {
   "cell_type": "code",
   "execution_count": 5,
   "metadata": {},
   "outputs": [],
   "source": [
    "dataset_dir = Path(\"..\")\n",
    "\n",
    "# Define the images directory and duplicates directory using Path objects\n",
    "image_dir = dataset_dir / \"images\"\n",
    "meta_dir = dataset_dir / \"metadata\"\n",
    "\n",
    "label_dir = dataset_dir / \"labels\"\n",
    "yolo_dir = dataset_dir / \"yolo\"\n",
    "yolo_labels_dir = yolo_dir / \"labels\"\n",
    "yolo_labels_dir.mkdir(exist_ok=True, parents=True)\n",
    "\n",
    "label_all_dir = dataset_dir / \"labels_all\"\n",
    "yolo_all_dir = dataset_dir / \"yolo_all\"\n",
    "yolo_all_labels_dir = yolo_all_dir / \"labels\"\n",
    "yolo_all_labels_dir.mkdir(exist_ok=True, parents=True)\n",
    "\n",
    "# label_tiny_dir = dataset_dir / 'labels_tiny'\n",
    "# yolo_tiny_dir = dataset_dir / 'yolo_tiny'\n",
    "# yolo_tiny_labels_dir = yolo_tiny_dir / 'labels'\n",
    "# yolo_tiny_labels_dir.mkdir(exist_ok=True, parents=True)\n",
    "\n",
    "label_background_dir = dataset_dir / \"labels_background\"\n",
    "\n",
    "# List all objects in the image directory\n",
    "objs = sorted([obj.name for obj in image_dir.iterdir()])\n",
    "\n",
    "with open(meta_dir / \"id_to_name.json\", \"r\") as f:\n",
    "    id_to_name = json.load(f)\n",
    "with open(meta_dir / \"id_to_name_gen.json\", \"r\") as f:\n",
    "    id_to_name_gen = json.load(f)\n",
    "\n",
    "with open(meta_dir / \"near_duplicates.json\", \"r\") as f:\n",
    "    near_duplicates = json.load(f)\n",
    "\n",
    "with open(label_dir / \"labels_nms.json\", \"r\") as f:\n",
    "    labels_nms = json.load(f)\n",
    "with open(label_all_dir / \"no_ann.json\", \"r\") as f:\n",
    "    no_ann_all = json.load(f)\n",
    "with open(label_all_dir / \"labels_nms.json\", \"r\") as f:\n",
    "    labels_nms_all = json.load(f)\n",
    "# with open(label_tiny_dir/'no_ann.json', 'r') as f:\n",
    "#     no_ann_tiny = json.load(f)\n",
    "# with open(label_tiny_dir/'labels_nms.json', 'r') as f:\n",
    "#     labels_nms_tiny = json.load(f)"
   ]
  },
  {
   "cell_type": "code",
   "execution_count": 6,
   "metadata": {},
   "outputs": [
    {
     "name": "stdout",
     "output_type": "stream",
     "text": [
      "  articulated dump truck: 0\n",
      "  bulldozer: 1\n",
      "  combined piling and drilling rig: 2\n",
      "  crawler crane: 3\n",
      "  crawler excavator: 4\n",
      "  crawler loader: 5\n",
      "  duty cycle crane: 6\n",
      "  gantry crane: 7\n",
      "  log loader: 8\n",
      "  maritime crane: 9\n",
      "  material handling machine: 10\n",
      "  mining bulldozer: 11\n",
      "  mining excavator: 12\n",
      "  mining truck: 13\n",
      "  mobile crane: 14\n",
      "  pipelayer: 15\n",
      "  pontoon excavator: 16\n",
      "  reachstacker: 17\n",
      "  telescopic handler: 18\n",
      "  tower crane: 19\n",
      "  truck mixer: 20\n",
      "  wheel excavator: 21\n",
      "  wheel loader: 22\n"
     ]
    }
   ],
   "source": [
    "with open(meta_dir / \"classes.json\", \"r\") as f:\n",
    "    class_dict = json.load(f)\n",
    "\n",
    "for k, v in class_dict.items():\n",
    "    print(f\"  {k}: {v}\")"
   ]
  },
  {
   "cell_type": "markdown",
   "metadata": {},
   "source": [
    "## convert original images to yolo format and save them (no need to run again)"
   ]
  },
  {
   "cell_type": "code",
   "execution_count": null,
   "metadata": {},
   "outputs": [],
   "source": [
    "# convert ORIGINAL image annotations to yolo format (no need to run again)\n",
    "# no need to run again, done in covert_to_yolo.ipynb\n",
    "image_list = []\n",
    "for id, ann in labels_nms.items():\n",
    "    if ann[\"boxes\"] == []:  # Skip images with no annotations\n",
    "        continue\n",
    "    obj = id_to_name[id + \".jpg\"].split(\"/\")[0]\n",
    "    image_list.append(f\"./images/{obj}/{id}.jpg\")\n",
    "    boxes_xywh = ann[\"boxes\"]\n",
    "    classes = ann[\"classes\"]\n",
    "    cls_ids = [class_dict[class_name] for class_name in classes]\n",
    "\n",
    "    txt = \"\"\n",
    "    # yolo format: \"class_id x y w h\"\n",
    "    for i in range(len(boxes_xywh)):\n",
    "        cls_id = cls_ids[i]\n",
    "        box = boxes_xywh[i]\n",
    "        txt += f\"{cls_id} {box[0]:.6f} {box[1]:.6f} {box[2]:.6f} {box[3]:.6f}\\n\"\n",
    "\n",
    "    # save\n",
    "    (yolo_labels_dir / obj).mkdir(exist_ok=True, parents=True)\n",
    "    with open(yolo_labels_dir / obj / (id + \".txt\"), \"w\") as f:\n",
    "        f.write(txt)\n",
    "\n",
    "print(len(image_list))"
   ]
  },
  {
   "cell_type": "code",
   "execution_count": null,
   "metadata": {},
   "outputs": [],
   "source": [
    "# # convert groundingdino-tiny's image annotations to yolo format (no need to run again)\n",
    "\n",
    "# image_list = []\n",
    "# for id, ann in labels_nms_tiny.items():\n",
    "#     if ann['boxes'] == []: # Skip images with no annotations\n",
    "#         continue\n",
    "#     obj = id_to_name[id+'.jpg'].split('/')[0]\n",
    "#     image_list.append(f'./images/{obj}/{id}.jpg')\n",
    "#     boxes_xywh = ann['boxes']\n",
    "#     classes = ann['classes']\n",
    "#     cls_ids = [class_dict[class_name] for class_name in classes]\n",
    "\n",
    "#     txt = ''\n",
    "#     # yolo format: \"class_id x y w h\"\n",
    "#     for i in range(len(boxes_xywh)):\n",
    "#         cls_id = cls_ids[i]\n",
    "#         box = boxes_xywh[i]\n",
    "#         txt += f\"{cls_id} {box[0]:.6f} {box[1]:.6f} {box[2]:.6f} {box[3]:.6f}\\n\"\n",
    "\n",
    "#     # save\n",
    "#     (yolo_tiny_labels_dir /obj).mkdir(exist_ok=True, parents=True)\n",
    "#     with open(yolo_tiny_labels_dir /obj/ (id+'.txt'), 'w') as f:\n",
    "#         f.write(txt)\n",
    "\n",
    "# print(len(image_list))"
   ]
  },
  {
   "cell_type": "code",
   "execution_count": 7,
   "metadata": {},
   "outputs": [
    {
     "name": "stdout",
     "output_type": "stream",
     "text": [
      "83485\n"
     ]
    }
   ],
   "source": [
    "# convert ALL image annotations to yolo format (no need to run again)\n",
    "\n",
    "image_list = []\n",
    "\n",
    "for id, ann in labels_nms_all.items():\n",
    "    if ann[\"boxes\"] == []:  # Skip images with no annotations\n",
    "        continue\n",
    "    if id[0] == \"d\":  # for dreambooth generated images\n",
    "        obj = id_to_name_gen[id + \".jpg\"].split(\"/\")[1].replace(\"_\", \" \")\n",
    "    else:\n",
    "        obj = id_to_name[id + \".jpg\"].split(\"/\")[0]\n",
    "    image_list.append(f\"./images/{obj}/{id}.jpg\")\n",
    "    boxes_xywh = ann[\"boxes\"]\n",
    "    classes = ann[\"classes\"]\n",
    "    cls_ids = [class_dict[class_name] for class_name in classes]\n",
    "\n",
    "    txt = \"\"\n",
    "    # yolo format: \"class_id x y w h\"\n",
    "    for i in range(len(boxes_xywh)):\n",
    "        cls_id = cls_ids[i]\n",
    "        box = boxes_xywh[i]\n",
    "        txt += f\"{cls_id} {box[0]:.6f} {box[1]:.6f} {box[2]:.6f} {box[3]:.6f}\\n\"\n",
    "\n",
    "    # save\n",
    "    (yolo_all_labels_dir / obj).mkdir(exist_ok=True, parents=True)\n",
    "    with open(yolo_all_labels_dir / obj / (id + \".txt\"), \"w\") as f:\n",
    "        f.write(txt)\n",
    "\n",
    "print(len(image_list))"
   ]
  },
  {
   "cell_type": "code",
   "execution_count": 8,
   "metadata": {},
   "outputs": [],
   "source": [
    "assert len(image_list) == (len(labels_nms_all) - len(no_ann_all))"
   ]
  },
  {
   "cell_type": "markdown",
   "metadata": {},
   "source": [
    "## switch class id for lvis"
   ]
  },
  {
   "cell_type": "code",
   "execution_count": 10,
   "metadata": {},
   "outputs": [],
   "source": [
    "# the most similar class is given by Sentence-BERT\n",
    "lp_to_lvis = {\n",
    "    0: 1122,\n",
    "    1: 163,\n",
    "    2: 395,\n",
    "    3: 554,\n",
    "    4: 841,\n",
    "    5: 894,\n",
    "    6: 469,\n",
    "    7: 556,\n",
    "    8: 652,\n",
    "    9: 51,\n",
    "    10: 932,\n",
    "    11: 163,\n",
    "    12: 841,\n",
    "    13: 1122,\n",
    "    14: 554,\n",
    "    15: 810,\n",
    "    16: 841,\n",
    "    17: 1068,\n",
    "    18: 1074,\n",
    "    19: 1169,\n",
    "    20: 695,\n",
    "    21: 841,\n",
    "    22: 1177,\n",
    "}"
   ]
  },
  {
   "cell_type": "code",
   "execution_count": 11,
   "metadata": {},
   "outputs": [],
   "source": [
    "lvis_yolo_dir = dataset_dir / \"yolo_lvis_label\"\n",
    "lvis_yolo_labels_dir = lvis_yolo_dir / \"labels\"\n",
    "image_list = []\n",
    "\n",
    "for path in yolo_labels_dir.rglob(\"*.txt\"):\n",
    "    obj = path.parent.name\n",
    "    id = path.stem\n",
    "    # append all images\n",
    "    image_list.append(f\"./images/{obj}/{id}.jpg\")\n",
    "\n",
    "    with open(path, \"r\") as f:\n",
    "        txt_list = f.readlines()\n",
    "    new_txt = \"\"\n",
    "    for txt in txt_list:\n",
    "        cls_id, x, y, w, h = txt.split()\n",
    "        cls_id = int(cls_id)\n",
    "        new_cls_id = lp_to_lvis[cls_id]\n",
    "        new_txt += f\"{new_cls_id} {x} {y} {w} {h}\\n\"\n",
    "    lvis_label_path = lvis_yolo_labels_dir / obj / path.name\n",
    "    lvis_label_path.parent.mkdir(exist_ok=True, parents=True)\n",
    "    with open(lvis_label_path, \"w\") as f:\n",
    "        f.write(new_txt)\n",
    "\n",
    "# print(len(image_list))\n",
    "\n",
    "with open(lvis_yolo_dir / \"all.txt\", \"w\") as f:\n",
    "    for img in image_list:\n",
    "        f.write(img + \"\\n\")"
   ]
  },
  {
   "cell_type": "code",
   "execution_count": null,
   "metadata": {},
   "outputs": [],
   "source": []
  }
 ],
 "metadata": {
  "kernelspec": {
   "display_name": "alp",
   "language": "python",
   "name": "python3"
  },
  "language_info": {
   "codemirror_mode": {
    "name": "ipython",
    "version": 3
   },
   "file_extension": ".py",
   "mimetype": "text/x-python",
   "name": "python",
   "nbconvert_exporter": "python",
   "pygments_lexer": "ipython3",
   "version": "3.10.14"
  }
 },
 "nbformat": 4,
 "nbformat_minor": 2
}
